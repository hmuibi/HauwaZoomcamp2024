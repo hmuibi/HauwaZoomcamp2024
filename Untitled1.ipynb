{
 "cells": [
  {
   "cell_type": "code",
   "execution_count": null,
   "id": "0d984979-0884-4d74-94c9-c27344e65ebe",
   "metadata": {},
   "outputs": [],
   "source": [
    "docker run -it \\\n",
    "-e POSTGRES_USER=\"root\" \\\n",
    "-e POSTGRES_PASSWORD=\"root\" \\\n",
    "-e POSTGRES_DB=\"ny_taxi\" \\\n",
    "-v c:\\Users\\hauwa.muibi\\source\\repos\\HauwaZoomcamp2024\\docker_sql\\ny_taxi_postgres_data:/var/lib/postgresql/data \\\n",
    "-p 5432:5432 \\\n",
    "postgres:13"
   ]
  }
 ],
 "metadata": {
  "kernelspec": {
   "display_name": "Python 3 (ipykernel)",
   "language": "python",
   "name": "python3"
  },
  "language_info": {
   "codemirror_mode": {
    "name": "ipython",
    "version": 3
   },
   "file_extension": ".py",
   "mimetype": "text/x-python",
   "name": "python",
   "nbconvert_exporter": "python",
   "pygments_lexer": "ipython3",
   "version": "3.10.13"
  }
 },
 "nbformat": 4,
 "nbformat_minor": 5
}
